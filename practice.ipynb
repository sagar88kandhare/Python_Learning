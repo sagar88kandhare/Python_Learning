{
 "cells": [
  {
   "cell_type": "markdown",
   "metadata": {},
   "source": [
    "##Reverse a String"
   ]
  },
  {
   "cell_type": "code",
   "execution_count": 15,
   "metadata": {},
   "outputs": [
    {
     "name": "stdout",
     "output_type": "stream",
     "text": [
      "ragaS\n"
     ]
    },
    {
     "data": {
      "text/plain": [
       "'def reverse_string(str):\\n    return str[::-1]\\n\\ninput_string = input(str(\"Please enter a string : \"))\\nprint(reverse_string(input_string))'"
      ]
     },
     "execution_count": 15,
     "metadata": {},
     "output_type": "execute_result"
    }
   ],
   "source": [
    "#Reverse input string Method 1 Slicing\n",
    "input_string = input(str(\"Please enter a string : \"))\n",
    "reverse_string = input_string[::-1]\n",
    "print(reverse_string)\n",
    "\n",
    "'''def reverse_string(str):\n",
    "    return str[::-1]\n",
    "\n",
    "input_string = input(str(\"Please enter a string : \"))\n",
    "print(reverse_string(input_string))'''"
   ]
  },
  {
   "cell_type": "code",
   "execution_count": null,
   "metadata": {},
   "outputs": [
    {
     "name": "stdout",
     "output_type": "stream",
     "text": [
      "ragaS\n"
     ]
    },
    {
     "data": {
      "text/plain": [
       "'def reverse_string(input_string):\\n    return \\'\\'.join(reversed(input_string))\\n\\n# Example usage\\ninput_string = input(str(\"Please enter a string\"))\\nprint(reverse_string(input_string))'"
      ]
     },
     "execution_count": 16,
     "metadata": {},
     "output_type": "execute_result"
    }
   ],
   "source": [
    "#Reverse input string Method 2 Reversed\n",
    "input_string = input(str(\"Please enter a string : \"))\n",
    "reverse_string = ''.join(reversed(input_string))\n",
    "print(reverse_string)\n",
    "\n",
    "'''def reverse_string(input_string):\n",
    "    return ''.join(reversed(input_string))\n",
    "\n",
    "input_string = input(str(\"Please enter a string\"))\n",
    "print(reverse_string(input_string))'''"
   ]
  },
  {
   "cell_type": "code",
   "execution_count": null,
   "metadata": {},
   "outputs": [
    {
     "name": "stdout",
     "output_type": "stream",
     "text": [
      "ragaS\n"
     ]
    },
    {
     "data": {
      "text/plain": [
       "'def reverse_string(input_string):\\n    reversed_string = \"\"\\n    for char in input_string:\\n        reversed_string = char + reversed_string\\n    return reversed_string\\n\\n# Example usage\\ninput_string = input(str(\"Please enter a string : \"))\\nprint(reverse_string(input_string))'"
      ]
     },
     "execution_count": 17,
     "metadata": {},
     "output_type": "execute_result"
    }
   ],
   "source": [
    "#Reverse input string Method 3 Using Loop\n",
    "input_string = input(str(\"Please enter a string : \"))\n",
    "reverse_string = \"\"\n",
    "for char in input_string:\n",
    "    reverse_string = char + reverse_string\n",
    "\n",
    "print(reverse_string)\n",
    "\n",
    "'''def reverse_string(input_string):\n",
    "    reversed_string = \"\"\n",
    "    for char in input_string:\n",
    "        reversed_string = char + reversed_string\n",
    "    return reversed_string\n",
    "\n",
    "input_string = input(str(\"Please enter a string : \"))\n",
    "print(reverse_string(input_string))'''"
   ]
  },
  {
   "cell_type": "markdown",
   "metadata": {},
   "source": [
    "##Check if a String is a Palindrome"
   ]
  },
  {
   "cell_type": "code",
   "execution_count": 26,
   "metadata": {},
   "outputs": [
    {
     "name": "stdout",
     "output_type": "stream",
     "text": [
      "RaceCar is palindrome\n"
     ]
    }
   ],
   "source": [
    "def is_palindrome(str):\n",
    "    lower_string = str.lower()\n",
    "    reverse_string = lower_string[::-1]\n",
    "    if lower_string == reverse_string:\n",
    "        print(f\"{str} is palindrome\")\n",
    "    else:\n",
    "        print(f\"{str} is not palindrome\")\n",
    "\n",
    "is_palindrome(input(str(\"Enter a string : \")))"
   ]
  },
  {
   "cell_type": "markdown",
   "metadata": {},
   "source": [
    "##Find the Largest Element in a List"
   ]
  },
  {
   "cell_type": "code",
   "execution_count": 29,
   "metadata": {},
   "outputs": [
    {
     "name": "stdout",
     "output_type": "stream",
     "text": [
      "9\n"
     ]
    },
    {
     "data": {
      "text/plain": [
       "'def find_largest_number(lst):\\n    return max(lst)\\n\\n# Test the function\\nnumbers = [3, 5, 1, 9, 2]\\nprint(find_largest_number(numbers))  # Output: 9\\n'"
      ]
     },
     "execution_count": 29,
     "metadata": {},
     "output_type": "execute_result"
    }
   ],
   "source": [
    "list = [3, 5, 1, 9, 2]\n",
    "print(max(list))\n",
    "\n",
    "'''def find_largest_number(lst):\n",
    "    return max(lst)\n",
    "\n",
    "# Test the function\n",
    "numbers = [3, 5, 1, 9, 2]\n",
    "print(find_largest_number(numbers))  # Output: 9\n",
    "'''"
   ]
  },
  {
   "cell_type": "markdown",
   "metadata": {},
   "source": [
    "##Count the Occurrences of an Element in a List"
   ]
  },
  {
   "cell_type": "code",
   "execution_count": 33,
   "metadata": {},
   "outputs": [
    {
     "name": "stdout",
     "output_type": "stream",
     "text": [
      "3\n"
     ]
    },
    {
     "data": {
      "text/plain": [
       "'def count_occurrences(lst, element):\\n    return lst.count(element)\\n\\n# Test the function\\nnumbers = [1, 2, 3, 2, 4, 2]\\nprint(count_occurrences(numbers, 1))  # Output: 3'"
      ]
     },
     "execution_count": 33,
     "metadata": {},
     "output_type": "execute_result"
    }
   ],
   "source": [
    "list = [1, 2, 3, 2, 4, 2]\n",
    "print(list.count(2))\n",
    "\n",
    "'''def count_occurrences(lst, element):\n",
    "    return lst.count(element)\n",
    "\n",
    "# Test the function\n",
    "numbers = [1, 2, 3, 2, 4, 2]\n",
    "print(count_occurrences(numbers, 1))  # Output: 3'''"
   ]
  },
  {
   "cell_type": "markdown",
   "metadata": {},
   "source": [
    "##Remove Duplicates from a List"
   ]
  },
  {
   "cell_type": "code",
   "execution_count": null,
   "metadata": {},
   "outputs": [
    {
     "ename": "TypeError",
     "evalue": "'list' object is not callable",
     "output_type": "error",
     "traceback": [
      "\u001b[1;31m---------------------------------------------------------------------------\u001b[0m",
      "\u001b[1;31mTypeError\u001b[0m                                 Traceback (most recent call last)",
      "Cell \u001b[1;32mIn[38], line 6\u001b[0m\n\u001b[0;32m      4\u001b[0m \u001b[38;5;66;03m# Test the function\u001b[39;00m\n\u001b[0;32m      5\u001b[0m numbers \u001b[38;5;241m=\u001b[39m [\u001b[38;5;241m1\u001b[39m, \u001b[38;5;241m2\u001b[39m, \u001b[38;5;241m3\u001b[39m, \u001b[38;5;241m2\u001b[39m, \u001b[38;5;241m4\u001b[39m, \u001b[38;5;241m1\u001b[39m]\n\u001b[1;32m----> 6\u001b[0m \u001b[38;5;28mprint\u001b[39m(\u001b[43mremove_duplicates\u001b[49m\u001b[43m(\u001b[49m\u001b[43mnumbers\u001b[49m\u001b[43m)\u001b[49m)  \u001b[38;5;66;03m# Output: [1, 2, 3, 4]\u001b[39;00m\n",
      "Cell \u001b[1;32mIn[38], line 2\u001b[0m, in \u001b[0;36mremove_duplicates\u001b[1;34m(lst)\u001b[0m\n\u001b[0;32m      1\u001b[0m \u001b[38;5;28;01mdef\u001b[39;00m\u001b[38;5;250m \u001b[39m\u001b[38;5;21mremove_duplicates\u001b[39m(lst):\n\u001b[1;32m----> 2\u001b[0m     \u001b[38;5;28;01mreturn\u001b[39;00m \u001b[38;5;28;43mlist\u001b[39;49m\u001b[43m(\u001b[49m\u001b[38;5;28;43mset\u001b[39;49m\u001b[43m(\u001b[49m\u001b[43mlst\u001b[49m\u001b[43m)\u001b[49m\u001b[43m)\u001b[49m\n",
      "\u001b[1;31mTypeError\u001b[0m: 'list' object is not callable"
     ]
    }
   ],
   "source": [
    "list1 = [1, 2, 3, 2, 4, 2]\n",
    "remove_duiplicates = list(set(list1))\n",
    "print(remove_duiplicates)"
   ]
  },
  {
   "cell_type": "code",
   "execution_count": 1,
   "metadata": {},
   "outputs": [
    {
     "name": "stdout",
     "output_type": "stream",
     "text": [
      "Before function call\n",
      "Hello!\n",
      "After function call\n"
     ]
    }
   ],
   "source": [
    "def my_decorator(func):\n",
    "    def wrapper():\n",
    "        print(\"Before function call\")\n",
    "        func()\n",
    "        print(\"After function call\")\n",
    "    return wrapper\n",
    "\n",
    "@my_decorator\n",
    "def greet():\n",
    "    print(\"Hello!\")\n",
    "\n",
    "greet()  # Output: Before function call \\n Hello! \\n After function call\n"
   ]
  },
  {
   "cell_type": "code",
   "execution_count": 2,
   "metadata": {},
   "outputs": [
    {
     "name": "stdout",
     "output_type": "stream",
     "text": [
      "[1, [2, 3]]\n",
      "[1, [2, 3]]\n",
      "[1, [2, 3]]\n"
     ]
    }
   ],
   "source": [
    "import copy\n",
    "original = [1, [2, 3]]\n",
    "shallow = copy.copy(original)\n",
    "deep = copy.deepcopy(original)\n",
    "print(original)\n",
    "print(shallow)\n",
    "print(deep)"
   ]
  }
 ],
 "metadata": {
  "kernelspec": {
   "display_name": "Python 3",
   "language": "python",
   "name": "python3"
  },
  "language_info": {
   "codemirror_mode": {
    "name": "ipython",
    "version": 3
   },
   "file_extension": ".py",
   "mimetype": "text/x-python",
   "name": "python",
   "nbconvert_exporter": "python",
   "pygments_lexer": "ipython3",
   "version": "3.13.1"
  }
 },
 "nbformat": 4,
 "nbformat_minor": 2
}
