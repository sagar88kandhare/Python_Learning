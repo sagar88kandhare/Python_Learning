{
 "cells": [
  {
   "cell_type": "code",
   "execution_count": 2,
   "metadata": {},
   "outputs": [
    {
     "data": {
      "text/plain": [
       "18.0"
      ]
     },
     "execution_count": 2,
     "metadata": {},
     "output_type": "execute_result"
    }
   ],
   "source": [
    "def area_of_rectangle(length, breadth):\n",
    "    \"\"\"\n",
    "    Function to calculate the area of a rectangle.\n",
    "    \n",
    "    Parameters:\n",
    "    length (float): The length of the rectangle.\n",
    "    breadth (float): The breadth of the rectangle.\n",
    "    \n",
    "    Returns:\n",
    "    float: The area of the rectangle.\n",
    "    \"\"\"\n",
    "    # Your code here\n",
    "    \n",
    "    area = (length * breadth)\n",
    "    \n",
    "    #print (area)\n",
    "    \n",
    "    return area\n",
    "\n",
    "area_of_rectangle(7.5, 2.4)"
   ]
  },
  {
   "cell_type": "code",
   "execution_count": 4,
   "metadata": {},
   "outputs": [
    {
     "data": {
      "text/plain": [
       "32.0"
      ]
     },
     "execution_count": 4,
     "metadata": {},
     "output_type": "execute_result"
    }
   ],
   "source": [
    "def celsius_to_fahrenheit(C):\n",
    "    \"\"\"\n",
    "    Function to convert temperature from Celsius to Fahrenheit.\n",
    "    \n",
    "    Parameters:\n",
    "    C (float): The temperature in Celsius.\n",
    "    \n",
    "    Returns:\n",
    "    float: The temperature in Fahrenheit.\n",
    "    \"\"\"\n",
    "    # Your code here\n",
    "    Fahrenheit = (9/5 * C) + 32\n",
    "    \n",
    "    #print(Fahrenheit)\n",
    "    \n",
    "    return Fahrenheit\n",
    "\n",
    "celsius_to_fahrenheit(0)"
   ]
  }
 ],
 "metadata": {
  "kernelspec": {
   "display_name": "Python 3",
   "language": "python",
   "name": "python3"
  },
  "language_info": {
   "codemirror_mode": {
    "name": "ipython",
    "version": 3
   },
   "file_extension": ".py",
   "mimetype": "text/x-python",
   "name": "python",
   "nbconvert_exporter": "python",
   "pygments_lexer": "ipython3",
   "version": "3.13.1"
  }
 },
 "nbformat": 4,
 "nbformat_minor": 2
}
